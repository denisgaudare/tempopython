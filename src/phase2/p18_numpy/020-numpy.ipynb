{
 "cells": [
  {
   "cell_type": "markdown",
   "id": "c131ca6c",
   "metadata": {},
   "source": [
    "# 🧠 Introduction à NumPy pour développeurs aguerris"
   ]
  },
  {
   "cell_type": "code",
   "execution_count": null,
   "id": "ae88a024",
   "metadata": {},
   "outputs": [],
   "source": [
    "\n",
    "import numpy as np\n",
    "import time\n",
    "\n",
    "lst = list(range(10_000_000))\n",
    "arr = np.arange(10_000_000)\n",
    "\n",
    "start = time.time(); [x**2 for x in lst]; print(\"List:\", time.time() - start)\n",
    "start = time.time(); arr ** 2; print(\"NumPy:\", time.time() - start)\n"
   ]
  },
  {
   "cell_type": "code",
   "execution_count": null,
   "id": "d18086c7",
   "metadata": {},
   "outputs": [],
   "source": [
    "\n",
    "a = np.zeros((2, 3))\n",
    "b = np.random.randint(0, 10, size=(3, 3))\n",
    "\n",
    "print(\"a =\\n\", a)\n",
    "print(\"b =\\n\", b)\n",
    "print(\"Shape de b :\", b.shape)\n",
    "print(\"Dtype de b :\", b.dtype)\n",
    "print(\"Dimensions :\", b.ndim)\n",
    "print(\"Taille totale :\", b.size)\n"
   ]
  },
  {
   "cell_type": "code",
   "execution_count": null,
   "id": "2b26be55",
   "metadata": {},
   "outputs": [],
   "source": [
    "\n",
    "a = np.arange(10)\n",
    "print(\"Original :\", a)\n",
    "\n",
    "print(\"Slicing :\", a[2:7])\n",
    "print(\"Masquage :\", a[a % 2 == 0])\n",
    "\n",
    "a[a % 2 == 0] = -1\n",
    "print(\"Modifié :\", a)\n"
   ]
  },
  {
   "cell_type": "code",
   "execution_count": null,
   "id": "c0e52f00",
   "metadata": {},
   "outputs": [],
   "source": [
    "\n",
    "a = np.arange(3).reshape(3, 1)\n",
    "b = np.arange(4).reshape(1, 4)\n",
    "print(\"a + b =\\n\", a + b)\n"
   ]
  },
  {
   "cell_type": "code",
   "execution_count": null,
   "id": "ad24c3c2",
   "metadata": {},
   "outputs": [],
   "source": [
    "\n",
    "data = np.random.rand(5, 10)\n",
    "print(\"Moyenne globale :\", data.mean())\n",
    "print(\"Moyenne par ligne :\", data.mean(axis=1))\n",
    "print(\"Écart-type par colonne :\", data.std(axis=0))\n"
   ]
  },
  {
   "cell_type": "code",
   "execution_count": null,
   "id": "89e77772",
   "metadata": {},
   "outputs": [],
   "source": [
    "\n",
    "a = np.array([[1, 2], [3, 4]])\n",
    "print(\"Original :\\n\", a)\n",
    "print(\"Repeat ligne :\\n\", np.repeat(a, 2, axis=0))\n",
    "print(\"Flatten :\", a.flatten())\n"
   ]
  },
  {
   "cell_type": "code",
   "execution_count": null,
   "id": "0ccd4d40",
   "metadata": {},
   "outputs": [],
   "source": [
    "\n",
    "np.random.seed(0)\n",
    "rolls = np.random.randint(1, 7, size=(1000, 10))\n",
    "sums = rolls.sum(axis=1)\n",
    "\n",
    "import matplotlib.pyplot as plt\n",
    "plt.hist(sums, bins=range(10, 61), edgecolor=\"black\")\n",
    "plt.title(\"Distribution de sommes de 10 dés (1000 essais)\")\n",
    "plt.xlabel(\"Somme\")\n",
    "plt.ylabel(\"Fréquence\")\n",
    "plt.show()\n"
   ]
  },
  {
   "cell_type": "code",
   "execution_count": null,
   "id": "b46e269a",
   "metadata": {},
   "outputs": [],
   "source": [
    "\n",
    "X = np.random.rand(100, 3)\n",
    "w = np.array([0.1, 0.5, -0.2])\n",
    "y_pred = X @ w\n",
    "print(\"Prédictions :\", y_pred[:5])\n"
   ]
  }
 ],
 "metadata": {},
 "nbformat": 4,
 "nbformat_minor": 5
}
