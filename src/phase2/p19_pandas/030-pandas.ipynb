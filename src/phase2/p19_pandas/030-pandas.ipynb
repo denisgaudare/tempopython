{
 "cells": [
  {
   "cell_type": "markdown",
   "id": "9a446719",
   "metadata": {},
   "source": [
    "# 🐼 Pandas pour développeurs Python\n",
    "\n",
    "Ce notebook présente les fonctions principales de Pandas à travers des exemples concrets."
   ]
  },
  {
   "cell_type": "code",
   "execution_count": null,
   "id": "f15e22ab",
   "metadata": {},
   "outputs": [],
   "source": [
    "import pandas as pd\n",
    "import numpy as np\n",
    "import matplotlib.pyplot as plt\n",
    "\n",
    "# Simuler un petit jeu de données\n",
    "data = {\n",
    "    'id': np.arange(1, 11),\n",
    "    'date': pd.date_range(start='2023-01-01', periods=10),\n",
    "    'value': np.random.randint(50, 200, size=10)\n",
    "}\n",
    "df = pd.DataFrame(data)\n",
    "df"
   ]
  },
  {
   "cell_type": "markdown",
   "id": "cb254201",
   "metadata": {},
   "source": [
    "## 1. Chargement & exploration"
   ]
  },
  {
   "cell_type": "code",
   "execution_count": null,
   "id": "4299c696",
   "metadata": {},
   "outputs": [],
   "source": [
    "df.head()"
   ]
  },
  {
   "cell_type": "code",
   "execution_count": null,
   "id": "f7709d58",
   "metadata": {},
   "outputs": [],
   "source": [
    "df.info()"
   ]
  },
  {
   "cell_type": "code",
   "execution_count": null,
   "id": "20dad551",
   "metadata": {},
   "outputs": [],
   "source": [
    "df.describe()"
   ]
  },
  {
   "cell_type": "markdown",
   "id": "c9293b54",
   "metadata": {},
   "source": [
    "## 2. Filtrage & sélection"
   ]
  },
  {
   "cell_type": "code",
   "execution_count": null,
   "id": "3c5c180d",
   "metadata": {},
   "outputs": [],
   "source": [
    "df[df['value'] > 100]"
   ]
  },
  {
   "cell_type": "code",
   "execution_count": null,
   "id": "f381879c",
   "metadata": {},
   "outputs": [],
   "source": [
    "df.loc[df['date'] > '2023-01-05', ['id', 'value']]"
   ]
  },
  {
   "cell_type": "markdown",
   "id": "fc784f4a",
   "metadata": {},
   "source": [
    "## 3. Transformation & colonnes calculées"
   ]
  },
  {
   "cell_type": "code",
   "execution_count": null,
   "id": "96a711c9",
   "metadata": {},
   "outputs": [],
   "source": [
    "df['ratio'] = df['value'] / df['value'].sum()\n",
    "df['label'] = df['value'].apply(lambda x: 'High' if x > 100 else 'Low')\n",
    "df"
   ]
  },
  {
   "cell_type": "markdown",
   "id": "871ddc8d",
   "metadata": {},
   "source": [
    "## 4. GroupBy & agrégation"
   ]
  },
  {
   "cell_type": "code",
   "execution_count": null,
   "id": "fd99d716",
   "metadata": {},
   "outputs": [],
   "source": [
    "df.groupby('label')['value'].agg(['mean', 'sum'])"
   ]
  },
  {
   "cell_type": "markdown",
   "id": "11d843cc",
   "metadata": {},
   "source": [
    "## 5. Pivot & reshape"
   ]
  },
  {
   "cell_type": "code",
   "execution_count": null,
   "id": "0da742b6",
   "metadata": {},
   "outputs": [],
   "source": [
    "df.pivot_table(index='id', columns='label', values='value', aggfunc='sum')"
   ]
  },
  {
   "cell_type": "markdown",
   "id": "286b1a0f",
   "metadata": {},
   "source": [
    "## 6. Visualisation simple"
   ]
  },
  {
   "cell_type": "code",
   "execution_count": null,
   "id": "628eb26e",
   "metadata": {},
   "outputs": [],
   "source": [
    "df['value'].plot(kind='hist', bins=10, title='Distribution des valeurs')\n",
    "plt.xlabel('valeur')\n",
    "plt.show()"
   ]
  },
  {
   "cell_type": "markdown",
   "id": "42a4a5f1",
   "metadata": {},
   "source": [
    "## 7. Bonus : tri et top 5"
   ]
  },
  {
   "cell_type": "code",
   "execution_count": null,
   "id": "8bd2437e",
   "metadata": {},
   "outputs": [],
   "source": [
    "df.sort_values('value', ascending=False).head()"
   ]
  }
 ],
 "metadata": {},
 "nbformat": 4,
 "nbformat_minor": 5
}
